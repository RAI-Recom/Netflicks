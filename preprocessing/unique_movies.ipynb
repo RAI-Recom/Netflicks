{
 "cells": [
  {
   "cell_type": "code",
   "execution_count": null,
   "metadata": {},
   "outputs": [
    {
     "ename": "",
     "evalue": "",
     "output_type": "error",
     "traceback": [
      "\u001b[1;31mThe Kernel crashed while executing code in the current cell or a previous cell. \n",
      "\u001b[1;31mPlease review the code in the cell(s) to identify a possible cause of the failure. \n",
      "\u001b[1;31mClick <a href='https://aka.ms/vscodeJupyterKernelCrash'>here</a> for more info. \n",
      "\u001b[1;31mView Jupyter <a href='command:jupyter.viewOutput'>log</a> for further details."
     ]
    }
   ],
   "source": [
    "import pandas as pd\n",
    "\n",
    "df = pd.read_csv('../data/processed_rate_entries.csv')\n",
    "\n",
    "unique_movies = df['movie_title'].unique()\n",
    "\n",
    "# print(\"Unique movies:\")\n",
    "# for movie in unique_movies:\n",
    "#     print(movie)\n",
    "\n",
    "unique_movies_df = pd.DataFrame(unique_movies, columns=['movie_title'])\n",
    "unique_movies_df.to_csv('unique_movies.csv', index=False)\n",
    "\n",
    "print(f\"\\nTotal unique movies: {len(unique_movies)}\")\n",
    "print(\"Unique movies have been saved to 'unique_movies.csv'\")\n"
   ]
  }
 ],
 "metadata": {
  "kernelspec": {
   "display_name": "Python 3",
   "language": "python",
   "name": "python3"
  },
  "language_info": {
   "codemirror_mode": {
    "name": "ipython",
    "version": 3
   },
   "file_extension": ".py",
   "mimetype": "text/x-python",
   "name": "python",
   "nbconvert_exporter": "python",
   "pygments_lexer": "ipython3",
   "version": "3.10.12"
  }
 },
 "nbformat": 4,
 "nbformat_minor": 2
}
