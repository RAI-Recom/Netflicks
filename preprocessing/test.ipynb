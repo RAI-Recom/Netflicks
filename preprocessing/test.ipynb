{
 "cells": [
  {
   "cell_type": "code",
   "execution_count": 1,
   "metadata": {},
   "outputs": [
    {
     "name": "stdout",
     "output_type": "stream",
     "text": [
      "Defaulting to user installation because normal site-packages is not writeable\n",
      "Collecting torch\n",
      "  Downloading torch-2.6.0-cp310-cp310-manylinux1_x86_64.whl (766.7 MB)\n",
      "\u001b[2K     \u001b[90m━━━━━━━━━━━━━━━━━━━━━━━━━━━━━━━━━━━━━━━\u001b[0m \u001b[32m766.7/766.7 MB\u001b[0m \u001b[31m2.7 MB/s\u001b[0m eta \u001b[36m0:00:00\u001b[0m00:01\u001b[0m00:01\u001b[0m\n",
      "\u001b[?25hCollecting nvidia-nvtx-cu12==12.4.127\n",
      "  Downloading nvidia_nvtx_cu12-12.4.127-py3-none-manylinux2014_x86_64.whl (99 kB)\n",
      "\u001b[2K     \u001b[90m━━━━━━━━━━━━━━━━━━━━━━━━━━━━━━━━━━━━━━━━\u001b[0m \u001b[32m99.1/99.1 KB\u001b[0m \u001b[31m17.0 MB/s\u001b[0m eta \u001b[36m0:00:00\u001b[0m\n",
      "\u001b[?25hCollecting nvidia-cusparse-cu12==12.3.1.170\n",
      "  Downloading nvidia_cusparse_cu12-12.3.1.170-py3-none-manylinux2014_x86_64.whl (207.5 MB)\n",
      "\u001b[2K     \u001b[90m━━━━━━━━━━━━━━━━━━━━━━━━━━━━━━━━━━━━━━\u001b[0m \u001b[32m207.5/207.5 MB\u001b[0m \u001b[31m16.2 MB/s\u001b[0m eta \u001b[36m0:00:00\u001b[0m00:01\u001b[0m00:01\u001b[0m\n",
      "\u001b[?25hCollecting nvidia-nvjitlink-cu12==12.4.127\n",
      "  Downloading nvidia_nvjitlink_cu12-12.4.127-py3-none-manylinux2014_x86_64.whl (21.1 MB)\n",
      "\u001b[2K     \u001b[90m━━━━━━━━━━━━━━━━━━━━━━━━━━━━━━━━━━━━━━━━\u001b[0m \u001b[32m21.1/21.1 MB\u001b[0m \u001b[31m91.9 MB/s\u001b[0m eta \u001b[36m0:00:00\u001b[0m00:01\u001b[0m00:01\u001b[0m\n",
      "\u001b[?25hCollecting triton==3.2.0\n",
      "  Downloading triton-3.2.0-cp310-cp310-manylinux_2_17_x86_64.manylinux2014_x86_64.whl (253.1 MB)\n",
      "\u001b[2K     \u001b[90m━━━━━━━━━━━━━━━━━━━━━━━━━━━━━━━━━━━━━━\u001b[0m \u001b[32m253.1/253.1 MB\u001b[0m \u001b[31m11.1 MB/s\u001b[0m eta \u001b[36m0:00:00\u001b[0m00:01\u001b[0m00:01\u001b[0m\n",
      "\u001b[?25hCollecting fsspec\n",
      "  Downloading fsspec-2025.2.0-py3-none-any.whl (184 kB)\n",
      "\u001b[2K     \u001b[90m━━━━━━━━━━━━━━━━━━━━━━━━━━━━━━━━━━━━━━\u001b[0m \u001b[32m184.5/184.5 KB\u001b[0m \u001b[31m29.6 MB/s\u001b[0m eta \u001b[36m0:00:00\u001b[0m\n",
      "\u001b[?25hCollecting nvidia-cublas-cu12==12.4.5.8\n",
      "  Downloading nvidia_cublas_cu12-12.4.5.8-py3-none-manylinux2014_x86_64.whl (363.4 MB)\n",
      "\u001b[2K     \u001b[90m━━━━━━━━━━━━━━━━━━━━━━━━━━━━━━━━━━━━━━━\u001b[0m \u001b[32m363.4/363.4 MB\u001b[0m \u001b[31m8.0 MB/s\u001b[0m eta \u001b[36m0:00:00\u001b[0m00:01\u001b[0m00:01\u001b[0m\n",
      "\u001b[?25hCollecting sympy==1.13.1\n",
      "  Downloading sympy-1.13.1-py3-none-any.whl (6.2 MB)\n",
      "\u001b[2K     \u001b[90m━━━━━━━━━━━━━━━━━━━━━━━━━━━━━━━━━━━━━━━━\u001b[0m \u001b[32m6.2/6.2 MB\u001b[0m \u001b[31m104.8 MB/s\u001b[0m eta \u001b[36m0:00:00\u001b[0m00:01\u001b[0m\n",
      "\u001b[?25hCollecting filelock\n",
      "  Downloading filelock-3.17.0-py3-none-any.whl (16 kB)\n",
      "Collecting nvidia-cuda-nvrtc-cu12==12.4.127\n",
      "  Downloading nvidia_cuda_nvrtc_cu12-12.4.127-py3-none-manylinux2014_x86_64.whl (24.6 MB)\n",
      "\u001b[2K     \u001b[90m━━━━━━━━━━━━━━━━━━━━━━━━━━━━━━━━━━━━━━━━\u001b[0m \u001b[32m24.6/24.6 MB\u001b[0m \u001b[31m79.0 MB/s\u001b[0m eta \u001b[36m0:00:00\u001b[0m00:01\u001b[0m00:01\u001b[0m\n",
      "\u001b[?25hCollecting nvidia-cusparselt-cu12==0.6.2\n",
      "  Downloading nvidia_cusparselt_cu12-0.6.2-py3-none-manylinux2014_x86_64.whl (150.1 MB)\n",
      "\u001b[2K     \u001b[90m━━━━━━━━━━━━━━━━━━━━━━━━━━━━━━━━━━━━━━\u001b[0m \u001b[32m150.1/150.1 MB\u001b[0m \u001b[31m20.7 MB/s\u001b[0m eta \u001b[36m0:00:00\u001b[0m00:01\u001b[0m00:01\u001b[0m\n",
      "\u001b[?25hCollecting nvidia-cuda-runtime-cu12==12.4.127\n",
      "  Downloading nvidia_cuda_runtime_cu12-12.4.127-py3-none-manylinux2014_x86_64.whl (883 kB)\n",
      "\u001b[2K     \u001b[90m━━━━━━━━━━━━━━━━━━━━━━━━━━━━━━━━━━━━━━\u001b[0m \u001b[32m883.7/883.7 KB\u001b[0m \u001b[31m71.5 MB/s\u001b[0m eta \u001b[36m0:00:00\u001b[0m\n",
      "\u001b[?25hCollecting nvidia-curand-cu12==10.3.5.147\n",
      "  Downloading nvidia_curand_cu12-10.3.5.147-py3-none-manylinux2014_x86_64.whl (56.3 MB)\n",
      "\u001b[2K     \u001b[90m━━━━━━━━━━━━━━━━━━━━━━━━━━━━━━━━━━━━━━━━\u001b[0m \u001b[32m56.3/56.3 MB\u001b[0m \u001b[31m55.8 MB/s\u001b[0m eta \u001b[36m0:00:00\u001b[0m00:01\u001b[0m00:01\u001b[0m\n",
      "\u001b[?25hCollecting nvidia-cufft-cu12==11.2.1.3\n",
      "  Downloading nvidia_cufft_cu12-11.2.1.3-py3-none-manylinux2014_x86_64.whl (211.5 MB)\n",
      "\u001b[2K     \u001b[90m━━━━━━━━━━━━━━━━━━━━━━━━━━━━━━━━━━━━━━\u001b[0m \u001b[32m211.5/211.5 MB\u001b[0m \u001b[31m11.0 MB/s\u001b[0m eta \u001b[36m0:00:00\u001b[0m00:01\u001b[0m00:01\u001b[0m\n",
      "\u001b[?25hCollecting nvidia-nccl-cu12==2.21.5\n",
      "  Downloading nvidia_nccl_cu12-2.21.5-py3-none-manylinux2014_x86_64.whl (188.7 MB)\n",
      "\u001b[2K     \u001b[90m━━━━━━━━━━━━━━━━━━━━━━━━━━━━━━━━━━━━━━\u001b[0m \u001b[32m188.7/188.7 MB\u001b[0m \u001b[31m16.4 MB/s\u001b[0m eta \u001b[36m0:00:00\u001b[0m00:01\u001b[0m00:01\u001b[0m\n",
      "\u001b[?25hCollecting networkx\n",
      "  Downloading networkx-3.4.2-py3-none-any.whl (1.7 MB)\n",
      "\u001b[2K     \u001b[90m━━━━━━━━━━━━━━━━━━━━━━━━━━━━━━━━━━━━━━━━\u001b[0m \u001b[32m1.7/1.7 MB\u001b[0m \u001b[31m79.4 MB/s\u001b[0m eta \u001b[36m0:00:00\u001b[0m\n",
      "\u001b[?25hRequirement already satisfied: typing-extensions>=4.10.0 in /home/vhari/.local/lib/python3.10/site-packages (from torch) (4.12.2)\n",
      "Collecting nvidia-cuda-cupti-cu12==12.4.127\n",
      "  Downloading nvidia_cuda_cupti_cu12-12.4.127-py3-none-manylinux2014_x86_64.whl (13.8 MB)\n",
      "\u001b[2K     \u001b[90m━━━━━━━━━━━━━━━━━━━━━━━━━━━━━━━━━━━━━━━━\u001b[0m \u001b[32m13.8/13.8 MB\u001b[0m \u001b[31m79.2 MB/s\u001b[0m eta \u001b[36m0:00:00\u001b[0m00:01\u001b[0m00:01\u001b[0m\n",
      "\u001b[?25hRequirement already satisfied: jinja2 in /usr/lib/python3/dist-packages (from torch) (3.0.3)\n",
      "Collecting nvidia-cudnn-cu12==9.1.0.70\n",
      "  Downloading nvidia_cudnn_cu12-9.1.0.70-py3-none-manylinux2014_x86_64.whl (664.8 MB)\n",
      "\u001b[2K     \u001b[90m━━━━━━━━━━━━━━━━━━━━━━━━━━━━━━━━━━━━━━━\u001b[0m \u001b[32m664.8/664.8 MB\u001b[0m \u001b[31m5.3 MB/s\u001b[0m eta \u001b[36m0:00:00\u001b[0m00:01\u001b[0m00:01\u001b[0m\n",
      "\u001b[?25hCollecting nvidia-cusolver-cu12==11.6.1.9\n",
      "  Downloading nvidia_cusolver_cu12-11.6.1.9-py3-none-manylinux2014_x86_64.whl (127.9 MB)\n",
      "\u001b[2K     \u001b[90m━━━━━━━━━━━━━━━━━━━━━━━━━━━━━━━━━━━━━━\u001b[0m \u001b[32m127.9/127.9 MB\u001b[0m \u001b[31m24.9 MB/s\u001b[0m eta \u001b[36m0:00:00\u001b[0m00:01\u001b[0m00:01\u001b[0m\n",
      "\u001b[?25hCollecting mpmath<1.4,>=1.1.0\n",
      "  Downloading mpmath-1.3.0-py3-none-any.whl (536 kB)\n",
      "\u001b[2K     \u001b[90m━━━━━━━━━━━━━━━━━━━━━━━━━━━━━━━━━━━━━━\u001b[0m \u001b[32m536.2/536.2 KB\u001b[0m \u001b[31m43.2 MB/s\u001b[0m eta \u001b[36m0:00:00\u001b[0m\n",
      "\u001b[?25hInstalling collected packages: triton, nvidia-cusparselt-cu12, mpmath, sympy, nvidia-nvtx-cu12, nvidia-nvjitlink-cu12, nvidia-nccl-cu12, nvidia-curand-cu12, nvidia-cufft-cu12, nvidia-cuda-runtime-cu12, nvidia-cuda-nvrtc-cu12, nvidia-cuda-cupti-cu12, nvidia-cublas-cu12, networkx, fsspec, filelock, nvidia-cusparse-cu12, nvidia-cudnn-cu12, nvidia-cusolver-cu12, torch\n",
      "Successfully installed filelock-3.17.0 fsspec-2025.2.0 mpmath-1.3.0 networkx-3.4.2 nvidia-cublas-cu12-12.4.5.8 nvidia-cuda-cupti-cu12-12.4.127 nvidia-cuda-nvrtc-cu12-12.4.127 nvidia-cuda-runtime-cu12-12.4.127 nvidia-cudnn-cu12-9.1.0.70 nvidia-cufft-cu12-11.2.1.3 nvidia-curand-cu12-10.3.5.147 nvidia-cusolver-cu12-11.6.1.9 nvidia-cusparse-cu12-12.3.1.170 nvidia-cusparselt-cu12-0.6.2 nvidia-nccl-cu12-2.21.5 nvidia-nvjitlink-cu12-12.4.127 nvidia-nvtx-cu12-12.4.127 sympy-1.13.1 torch-2.6.0 triton-3.2.0\n"
     ]
    }
   ],
   "source": [
    "!pip install torch"
   ]
  },
  {
   "cell_type": "code",
   "execution_count": 2,
   "metadata": {},
   "outputs": [
    {
     "name": "stderr",
     "output_type": "stream",
     "text": [
      "/home/vhari/.local/lib/python3.10/site-packages/torch/_subclasses/functional_tensor.py:275: UserWarning: Failed to initialize NumPy: No module named 'numpy' (Triggered internally at /pytorch/torch/csrc/utils/tensor_numpy.cpp:81.)\n",
      "  cpu = _conversion_method_template(device=torch.device(\"cpu\"))\n"
     ]
    }
   ],
   "source": [
    "import torch\n",
    "use_cuda = torch.cuda.is_available()"
   ]
  },
  {
   "cell_type": "code",
   "execution_count": 1,
   "metadata": {},
   "outputs": [
    {
     "name": "stdout",
     "output_type": "stream",
     "text": [
      "Defaulting to user installation because normal site-packages is not writeable\n",
      "Collecting imdby\n",
      "  Using cached imdby-0.1.5.tar.gz (18 kB)\n",
      "  Preparing metadata (setup.py) ... \u001b[?25ldone\n",
      "\u001b[?25hCollecting beautifulsoup4\n",
      "  Using cached beautifulsoup4-4.13.3-py3-none-any.whl (186 kB)\n",
      "Collecting chromedriver-binary\n",
      "  Using cached chromedriver_binary-135.0.7048.0.0.tar.gz (5.7 kB)\n",
      "  Preparing metadata (setup.py) ... \u001b[?25ldone\n",
      "\u001b[?25hCollecting pandas\n",
      "  Using cached pandas-2.2.3-cp310-cp310-manylinux_2_17_x86_64.manylinux2014_x86_64.whl (13.1 MB)\n",
      "Collecting selenium\n",
      "  Using cached selenium-4.29.0-py3-none-any.whl (9.5 MB)\n",
      "Collecting textblob\n",
      "  Using cached textblob-0.19.0-py3-none-any.whl (624 kB)\n",
      "Collecting vaderSentiment\n",
      "  Using cached vaderSentiment-3.3.2-py2.py3-none-any.whl (125 kB)\n",
      "Requirement already satisfied: typing-extensions>=4.0.0 in /home/vhari/.local/lib/python3.10/site-packages (from beautifulsoup4->imdby) (4.12.2)\n",
      "Collecting soupsieve>1.2\n",
      "  Using cached soupsieve-2.6-py3-none-any.whl (36 kB)\n",
      "Requirement already satisfied: python-dateutil>=2.8.2 in /home/vhari/.local/lib/python3.10/site-packages (from pandas->imdby) (2.9.0.post0)\n",
      "Requirement already satisfied: pytz>=2020.1 in /usr/lib/python3/dist-packages (from pandas->imdby) (2022.1)\n",
      "Collecting tzdata>=2022.7\n",
      "  Using cached tzdata-2025.1-py2.py3-none-any.whl (346 kB)\n",
      "Collecting numpy>=1.22.4\n",
      "  Using cached numpy-2.2.3-cp310-cp310-manylinux_2_17_x86_64.manylinux2014_x86_64.whl (16.4 MB)\n",
      "Requirement already satisfied: urllib3[socks]<3,>=1.26 in /usr/lib/python3/dist-packages (from selenium->imdby) (1.26.5)\n",
      "Collecting certifi>=2021.10.8\n",
      "  Using cached certifi-2025.1.31-py3-none-any.whl (166 kB)\n",
      "Collecting websocket-client~=1.8\n",
      "  Using cached websocket_client-1.8.0-py3-none-any.whl (58 kB)\n",
      "Collecting trio~=0.17\n",
      "  Using cached trio-0.29.0-py3-none-any.whl (492 kB)\n",
      "Collecting trio-websocket~=0.9\n",
      "  Using cached trio_websocket-0.12.2-py3-none-any.whl (21 kB)\n",
      "Collecting nltk>=3.9\n",
      "  Using cached nltk-3.9.1-py3-none-any.whl (1.5 MB)\n",
      "Requirement already satisfied: requests in /usr/lib/python3/dist-packages (from vaderSentiment->imdby) (2.25.1)\n",
      "Collecting joblib\n",
      "  Using cached joblib-1.4.2-py3-none-any.whl (301 kB)\n",
      "Collecting regex>=2021.8.3\n",
      "  Using cached regex-2024.11.6-cp310-cp310-manylinux_2_17_x86_64.manylinux2014_x86_64.whl (781 kB)\n",
      "Requirement already satisfied: click in /usr/lib/python3/dist-packages (from nltk>=3.9->textblob->imdby) (8.0.3)\n",
      "Collecting tqdm\n",
      "  Using cached tqdm-4.67.1-py3-none-any.whl (78 kB)\n",
      "Requirement already satisfied: six>=1.5 in /usr/lib/python3/dist-packages (from python-dateutil>=2.8.2->pandas->imdby) (1.16.0)\n",
      "Collecting attrs>=23.2.0\n",
      "  Using cached attrs-25.1.0-py3-none-any.whl (63 kB)\n",
      "Requirement already satisfied: idna in /usr/lib/python3/dist-packages (from trio~=0.17->selenium->imdby) (3.3)\n",
      "Collecting sortedcontainers\n",
      "  Using cached sortedcontainers-2.4.0-py2.py3-none-any.whl (29 kB)\n",
      "Collecting outcome\n",
      "  Using cached outcome-1.3.0.post0-py2.py3-none-any.whl (10 kB)\n",
      "Requirement already satisfied: exceptiongroup in /home/vhari/.local/lib/python3.10/site-packages (from trio~=0.17->selenium->imdby) (1.2.2)\n",
      "Collecting sniffio>=1.3.0\n",
      "  Using cached sniffio-1.3.1-py3-none-any.whl (10 kB)\n",
      "Collecting wsproto>=0.14\n",
      "  Using cached wsproto-1.2.0-py3-none-any.whl (24 kB)\n",
      "Collecting PySocks!=1.5.7,<2.0,>=1.5.6\n",
      "  Using cached PySocks-1.7.1-py3-none-any.whl (16 kB)\n",
      "Collecting h11<1,>=0.9.0\n",
      "  Using cached h11-0.14.0-py3-none-any.whl (58 kB)\n",
      "Building wheels for collected packages: imdby, chromedriver-binary\n",
      "  Building wheel for imdby (setup.py) ... \u001b[?25ldone\n",
      "\u001b[?25h  Created wheel for imdby: filename=imdby-0.1.5-py3-none-any.whl size=28169 sha256=f361a4d573c10936a60060929b77d546424466acfe00cd74d76a9ab4ccb1b973\n",
      "  Stored in directory: /home/vhari/.cache/pip/wheels/bd/ac/c4/1890880a20b33571608810f487b4df5dbed382f2dc2524d2ff\n",
      "  Building wheel for chromedriver-binary (setup.py) ... \u001b[?25ldone\n",
      "\u001b[?25h  Created wheel for chromedriver-binary: filename=chromedriver_binary-135.0.7048.0.0-py3-none-any.whl size=8841396 sha256=17365f4d663c4c4b8ac91d4ae2612dddf62c0767ebe50562a6a802da11648a66\n",
      "  Stored in directory: /home/vhari/.cache/pip/wheels/01/69/c1/d851bdaa5ed29f6b8d920a205bac518c656b39abe10fdd4594\n",
      "Successfully built imdby chromedriver-binary\n",
      "Installing collected packages: sortedcontainers, chromedriver-binary, websocket-client, vaderSentiment, tzdata, tqdm, soupsieve, sniffio, regex, PySocks, numpy, joblib, h11, certifi, attrs, wsproto, pandas, outcome, nltk, beautifulsoup4, trio, textblob, trio-websocket, selenium, imdby\n",
      "Successfully installed PySocks-1.7.1 attrs-25.1.0 beautifulsoup4-4.13.3 certifi-2025.1.31 chromedriver-binary-135.0.7048.0.0 h11-0.14.0 imdby-0.1.5 joblib-1.4.2 nltk-3.9.1 numpy-2.2.3 outcome-1.3.0.post0 pandas-2.2.3 regex-2024.11.6 selenium-4.29.0 sniffio-1.3.1 sortedcontainers-2.4.0 soupsieve-2.6 textblob-0.19.0 tqdm-4.67.1 trio-0.29.0 trio-websocket-0.12.2 tzdata-2025.1 vaderSentiment-3.3.2 websocket-client-1.8.0 wsproto-1.2.0\n"
     ]
    }
   ],
   "source": [
    "!pip install imdby"
   ]
  },
  {
   "cell_type": "code",
   "execution_count": 5,
   "metadata": {},
   "outputs": [
    {
     "name": "stdout",
     "output_type": "stream",
     "text": [
      "Defaulting to user installation because normal site-packages is not writeable\n",
      "Collecting cinemagoer\n",
      "  Downloading cinemagoer-2023.5.1-py3-none-any.whl (297 kB)\n",
      "\u001b[2K     \u001b[90m━━━━━━━━━━━━━━━━━━━━━━━━━━━━━━━━━━━━━━━\u001b[0m \u001b[32m297.2/297.2 KB\u001b[0m \u001b[31m8.2 MB/s\u001b[0m eta \u001b[36m0:00:00\u001b[0m00:01\u001b[0m\n",
      "\u001b[?25hCollecting lxml\n",
      "  Downloading lxml-5.3.1-cp310-cp310-manylinux_2_28_x86_64.whl (5.2 MB)\n",
      "\u001b[2K     \u001b[90m━━━━━━━━━━━━━━━━━━━━━━━━━━━━━━━━━━━━━━━━\u001b[0m \u001b[32m5.2/5.2 MB\u001b[0m \u001b[31m32.2 MB/s\u001b[0m eta \u001b[36m0:00:00\u001b[0m00:01\u001b[0m00:01\u001b[0m\n",
      "\u001b[?25hCollecting SQLAlchemy\n",
      "  Downloading SQLAlchemy-2.0.38-cp310-cp310-manylinux_2_17_x86_64.manylinux2014_x86_64.whl (3.1 MB)\n",
      "\u001b[2K     \u001b[90m━━━━━━━━━━━━━━━━━━━━━━━━━━━━━━━━━━━━━━━━\u001b[0m \u001b[32m3.1/3.1 MB\u001b[0m \u001b[31m53.4 MB/s\u001b[0m eta \u001b[36m0:00:00\u001b[0ma \u001b[36m0:00:01\u001b[0m\n",
      "\u001b[?25hRequirement already satisfied: typing-extensions>=4.6.0 in /home/vhari/.local/lib/python3.10/site-packages (from SQLAlchemy->cinemagoer) (4.12.2)\n",
      "Collecting greenlet!=0.4.17\n",
      "  Downloading greenlet-3.1.1-cp310-cp310-manylinux_2_24_x86_64.manylinux_2_28_x86_64.whl (599 kB)\n",
      "\u001b[2K     \u001b[90m━━━━━━━━━━━━━━━━━━━━━━━━━━━━━━━━━━━━━━\u001b[0m \u001b[32m599.5/599.5 KB\u001b[0m \u001b[31m56.6 MB/s\u001b[0m eta \u001b[36m0:00:00\u001b[0m\n",
      "\u001b[?25hInstalling collected packages: lxml, greenlet, SQLAlchemy, cinemagoer\n",
      "Successfully installed SQLAlchemy-2.0.38 cinemagoer-2023.5.1 greenlet-3.1.1 lxml-5.3.1\n"
     ]
    }
   ],
   "source": [
    "!pip install cinemagoer"
   ]
  },
  {
   "cell_type": "code",
   "execution_count": 4,
   "metadata": {},
   "outputs": [
    {
     "ename": "ModuleNotFoundError",
     "evalue": "No module named 'imdb'",
     "output_type": "error",
     "traceback": [
      "\u001b[0;31m---------------------------------------------------------------------------\u001b[0m",
      "\u001b[0;31mModuleNotFoundError\u001b[0m                       Traceback (most recent call last)",
      "Cell \u001b[0;32mIn[4], line 1\u001b[0m\n\u001b[0;32m----> 1\u001b[0m \u001b[38;5;28;01mfrom\u001b[39;00m \u001b[38;5;21;01mimdb\u001b[39;00m \u001b[38;5;28;01mimport\u001b[39;00m IMDb\n\u001b[1;32m      2\u001b[0m \u001b[38;5;28;01mimport\u001b[39;00m \u001b[38;5;21;01mtime\u001b[39;00m\n\u001b[1;32m      4\u001b[0m ia \u001b[38;5;241m=\u001b[39m IMDb()\n",
      "\u001b[0;31mModuleNotFoundError\u001b[0m: No module named 'imdb'"
     ]
    }
   ],
   "source": [
    "from imdb import IMDb\n",
    "import time\n",
    "\n",
    "ia = IMDb()\n",
    "movies = [\"Inception\", \"The Dark Knight\", \"Interstellar\"]\n",
    "\n",
    "for movie in movies:\n",
    "    search_results = ia.search_movie(movie)\n",
    "    time.sleep(1)  # Add delay to avoid throttling\n",
    "    if search_results:\n",
    "        movie_id = search_results[0].movieID\n",
    "        ia.update(movie_id, info=['main', 'plot'])\n",
    "        print(f\"Title: {ia.get_movie(movie_id)['title']}\")\n"
   ]
  },
  {
   "cell_type": "code",
   "execution_count": 6,
   "metadata": {},
   "outputs": [
    {
     "name": "stderr",
     "output_type": "stream",
     "text": [
      "2025-03-04 16:53:54,267 ERROR [imdbpy] /home/vhari/.local/lib/python3.10/site-packages/imdb/__init__.py:844: unknown information set \"genres\"\n",
      "2025-03-04 16:53:54,268 ERROR [imdbpy] /home/vhari/.local/lib/python3.10/site-packages/imdb/__init__.py:844: unknown information set \"ratings\"\n"
     ]
    },
    {
     "name": "stdout",
     "output_type": "stream",
     "text": [
      "Title: Inception\n",
      "Year: 2010\n",
      "Rating: 8.8\n",
      "Genres: Action, Adventure, Sci-Fi, Thriller\n"
     ]
    }
   ],
   "source": [
    "from imdb import Cinemagoer\n",
    "\n",
    "ia = Cinemagoer()\n",
    "search_results = ia.search_movie(\"Inception 2010\")\n",
    "# [\"far away 2001\", \"star war 1977\"]\n",
    "\n",
    "if search_results:\n",
    "    movie_id = search_results[0].movieID\n",
    "    movie = ia.get_movie(movie_id)\n",
    "    ia.update(movie, info=['main', 'plot', 'genres', 'ratings'])\n",
    "    \n",
    "    print(f\"Title: {movie['title']}\")\n",
    "    print(f\"Year: {movie['year']}\")\n",
    "    print(f\"Rating: {movie['rating']}\")\n",
    "    print(f\"Genres: {', '.join(movie['genres'])}\")\n"
   ]
  },
  {
   "cell_type": "code",
   "execution_count": 7,
   "metadata": {},
   "outputs": [
    {
     "name": "stderr",
     "output_type": "stream",
     "text": [
      "2025-03-04 16:59:21,747 ERROR [imdbpy] /home/vhari/.local/lib/python3.10/site-packages/imdb/__init__.py:844: unknown information set \"genres\"\n",
      "2025-03-04 16:59:21,749 ERROR [imdbpy] /home/vhari/.local/lib/python3.10/site-packages/imdb/__init__.py:844: unknown information set \"ratings\"\n",
      "2025-03-04 16:59:39,519 ERROR [imdbpy] /home/vhari/.local/lib/python3.10/site-packages/imdb/__init__.py:844: unknown information set \"genres\"\n",
      "2025-03-04 16:59:39,522 ERROR [imdbpy] /home/vhari/.local/lib/python3.10/site-packages/imdb/__init__.py:844: unknown information set \"ratings\"\n"
     ]
    },
    {
     "name": "stdout",
     "output_type": "stream",
     "text": [
      "Title: A Galaxy Far, Far Away\n",
      "Year: 2001\n",
      "Rating: 5.2\n",
      "Genres: Comedy, Documentary\n",
      "Plot: A cross country exploration into the forces that attracts so many to the Star Wars mythos.\n",
      "\n",
      "Title: Star Wars: Episode IV - A New Hope\n",
      "Year: 1977\n",
      "Rating: 8.6\n",
      "Genres: Action, Adventure, Fantasy, Sci-Fi\n",
      "Plot: Luke Skywalker joins forces with a Jedi Knight, a cocky pilot, a Wookiee and two droids to save the galaxy from the Empire's world-destroying battle station, while also attempting to rescue Princess Leia from the mysterious Darth Vader.\n",
      "\n"
     ]
    }
   ],
   "source": [
    "from imdb import Cinemagoer\n",
    "import time\n",
    "\n",
    "def fetch_movies_by_title(titles):\n",
    "    ia = Cinemagoer()\n",
    "    movies_data = []\n",
    "\n",
    "    for title in titles:\n",
    "        search_results = ia.search_movie(title)\n",
    "        if search_results:\n",
    "            movie_id = search_results[0].movieID\n",
    "            movie = ia.get_movie(movie_id)\n",
    "            ia.update(movie, info=['main', 'plot', 'genres', 'ratings'])\n",
    "            movies_data.append({\n",
    "                'title': movie['title'],\n",
    "                'year': movie['year'],\n",
    "                # 'rating': movie['rating'],\n",
    "                # 'genres': movie['genres'],\n",
    "                'plot': movie['plot'][0].split('::')[0] if movie['plot'] else 'N/A'\n",
    "            })\n",
    "            time.sleep(1)  # Rate limiting to avoid throttling\n",
    "        else:\n",
    "            print(f\"No results found for: {title}\")\n",
    "\n",
    "    return movies_data\n",
    "\n",
    "# Example usage\n",
    "titles = [\"far away 2001\", \"star war 1977\"]\n",
    "results = fetch_movies_by_title(titles)\n",
    "\n",
    "for movie in results:\n",
    "    print(f\"Title: {movie['title']}\")\n",
    "    print(f\"Year: {movie['year']}\")\n",
    "    print(f\"Rating: {movie['rating']}\")\n",
    "    print(f\"Genres: {', '.join(movie['genres'])}\")\n",
    "    print(f\"Plot: {movie['plot']}\\n\")\n",
    "    \n"
   ]
  },
  {
   "cell_type": "code",
   "execution_count": 10,
   "metadata": {},
   "outputs": [
    {
     "name": "stderr",
     "output_type": "stream",
     "text": [
      "2025-03-04 17:15:58,577 ERROR [imdbpy] /home/vhari/.local/lib/python3.10/site-packages/imdb/__init__.py:844: unknown information set \"genres\"\n",
      "2025-03-04 17:15:58,578 ERROR [imdbpy] /home/vhari/.local/lib/python3.10/site-packages/imdb/__init__.py:844: unknown information set \"ratings\"\n"
     ]
    },
    {
     "name": "stdout",
     "output_type": "stream",
     "text": [
      "Movie data has been written to movies_data.csv\n"
     ]
    }
   ],
   "source": [
    "import csv\n",
    "from imdb import Cinemagoer\n",
    "import time\n",
    "\n",
    "def fetch_movies_by_title(titles, output_csv_path):\n",
    "    ia = Cinemagoer()\n",
    "    \n",
    "    with open(output_csv_path, mode='w', newline='', encoding='utf-8') as file:\n",
    "        writer = csv.writer(file)\n",
    "        writer.writerow(['movie_id', 'title', 'year', 'rating', 'genres', 'plot'])\n",
    "        \n",
    "        for title in titles:\n",
    "            search_results = ia.search_movie(title)\n",
    "            if search_results:\n",
    "                movie_id = search_results[0].movieID\n",
    "                movie = ia.get_movie(movie_id)\n",
    "                ia.update(movie, info=['main', 'plot', 'genres', 'ratings'])\n",
    "                writer.writerow([\n",
    "                    movie_id,\n",
    "                    movie['title'],\n",
    "                    movie['year'],\n",
    "                    movie.get('rating', 'N/A'),\n",
    "                    ', '.join(movie.get('genres', [])),\n",
    "                    movie['plot'][0].split('::')[0] if movie.get('plot') else 'N/A'\n",
    "                ])\n",
    "                time.sleep(1)  # Rate limiting to avoid throttling\n",
    "            else:\n",
    "                print(f\"No results found for: {title}\")\n",
    "\n",
    "def read_movie_titles_from_csv(filepath):\n",
    "    titles = []\n",
    "    with open(filepath, mode='r', newline='', encoding='utf-8') as file:\n",
    "        reader = csv.reader(file)\n",
    "        next(reader)  # Skip header row\n",
    "        for row in reader:\n",
    "            titles.append(row[0])  # Assuming the title is in the first column\n",
    "    return titles\n",
    "\n",
    "# Read movie titles from CSV\n",
    "input_csv_path = 'data/unique_movies.csv'\n",
    "titles = read_movie_titles_from_csv(input_csv_path)\n",
    "\n",
    "# Fetch movie data from IMDb and write to CSV incrementally\n",
    "output_csv_path = 'data/movies_data.csv'\n",
    "fetch_movies_by_title(titles, output_csv_path)\n",
    "\n",
    "print(f\"Movie data has been written to {output_csv_path}\")"
   ]
  },
  {
   "cell_type": "code",
   "execution_count": null,
   "metadata": {},
   "outputs": [],
   "source": []
  }
 ],
 "metadata": {
  "kernelspec": {
   "display_name": "Python 3",
   "language": "python",
   "name": "python3"
  },
  "language_info": {
   "codemirror_mode": {
    "name": "ipython",
    "version": 3
   },
   "file_extension": ".py",
   "mimetype": "text/x-python",
   "name": "python",
   "nbconvert_exporter": "python",
   "pygments_lexer": "ipython3",
   "version": "3.10.12"
  }
 },
 "nbformat": 4,
 "nbformat_minor": 2
}
