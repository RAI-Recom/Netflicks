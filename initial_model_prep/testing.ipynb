{
 "cells": [
  {
   "cell_type": "code",
   "execution_count": 1,
   "metadata": {},
   "outputs": [
    {
     "ename": "ModuleNotFoundError",
     "evalue": "No module named 'numpy'",
     "output_type": "error",
     "traceback": [
      "\u001b[31m---------------------------------------------------------------------------\u001b[39m",
      "\u001b[31mModuleNotFoundError\u001b[39m                       Traceback (most recent call last)",
      "\u001b[36mCell\u001b[39m\u001b[36m \u001b[39m\u001b[32mIn[1]\u001b[39m\u001b[32m, line 2\u001b[39m\n\u001b[32m      1\u001b[39m \u001b[38;5;66;03m# example_usage.py\u001b[39;00m\n\u001b[32m----> \u001b[39m\u001b[32m2\u001b[39m \u001b[38;5;28;01mfrom\u001b[39;00m\u001b[38;5;250m \u001b[39m\u001b[34;01mrecommend\u001b[39;00m\u001b[38;5;250m \u001b[39m\u001b[38;5;28;01mimport\u001b[39;00m load_models, hybrid_recommend, get_weights\n\u001b[32m      3\u001b[39m \u001b[38;5;28;01mimport\u001b[39;00m\u001b[38;5;250m \u001b[39m\u001b[34;01mpandas\u001b[39;00m\u001b[38;5;250m \u001b[39m\u001b[38;5;28;01mas\u001b[39;00m\u001b[38;5;250m \u001b[39m\u001b[34;01mpd\u001b[39;00m\n\u001b[32m      5\u001b[39m \u001b[38;5;28;01mdef\u001b[39;00m\u001b[38;5;250m \u001b[39m\u001b[34mget_recommendations\u001b[39m(user_id, cf_model, user_profiles, movie_profiles, movie_list, ratings_df, popularity_model, top_n):\n",
      "\u001b[36mFile \u001b[39m\u001b[32m~/Desktop/Assignments/Sem2/RAI/Netflicks/initial_model_prep/recommend.py:2\u001b[39m\n\u001b[32m      1\u001b[39m \u001b[38;5;28;01mimport\u001b[39;00m\u001b[38;5;250m \u001b[39m\u001b[34;01mpickle\u001b[39;00m\n\u001b[32m----> \u001b[39m\u001b[32m2\u001b[39m \u001b[38;5;28;01mimport\u001b[39;00m\u001b[38;5;250m \u001b[39m\u001b[34;01mnumpy\u001b[39;00m\u001b[38;5;250m \u001b[39m\u001b[38;5;28;01mas\u001b[39;00m\u001b[38;5;250m \u001b[39m\u001b[34;01mnp\u001b[39;00m\n\u001b[32m      3\u001b[39m \u001b[38;5;28;01mfrom\u001b[39;00m\u001b[38;5;250m \u001b[39m\u001b[34;01msurprise\u001b[39;00m\u001b[38;5;250m \u001b[39m\u001b[38;5;28;01mimport\u001b[39;00m SVD\n\u001b[32m      4\u001b[39m \u001b[38;5;28;01mfrom\u001b[39;00m\u001b[38;5;250m \u001b[39m\u001b[34;01msklearn\u001b[39;00m\u001b[34;01m.\u001b[39;00m\u001b[34;01mmetrics\u001b[39;00m\u001b[34;01m.\u001b[39;00m\u001b[34;01mpairwise\u001b[39;00m\u001b[38;5;250m \u001b[39m\u001b[38;5;28;01mimport\u001b[39;00m cosine_similarity\n",
      "\u001b[31mModuleNotFoundError\u001b[39m: No module named 'numpy'"
     ]
    }
   ],
   "source": [
    "# example_usage.py\n",
    "from recommend import load_models, hybrid_recommend, get_weights\n",
    "import pandas as pd\n",
    "\n",
    "def get_recommendations(user_id, cf_model, user_profiles, movie_profiles, movie_list, ratings_df, popularity_model, top_n):\n",
    "    alpha, beta = get_weights(user_id, ratings_df)\n",
    "    print(alpha, beta)\n",
    "    if user_id not in ratings_df['user_id'].values and user_id not in user_profiles:\n",
    "        print(\"Cold-start user: returning popularity-based recommendations.\")\n",
    "        return popularity_model[:top_n]\n",
    "\n",
    "    return hybrid_recommend(\n",
    "        user_id=user_id,\n",
    "        cf_model=cf_model,\n",
    "        user_profiles=user_profiles,\n",
    "        movie_profiles=movie_profiles,\n",
    "        movie_list=movie_list,\n",
    "        alpha=alpha,\n",
    "        beta=beta,\n",
    "        top_n=top_n\n",
    "    )\n",
    "\n",
    "\n",
    "# Load precomputed models and profiles\n",
    "cf_model, popularity_model, user_profiles, movie_profiles = load_models()\n",
    "\n",
    "ratings_df = pd.read_csv(\"processed_data/hybrid_model_data.csv\")\n",
    "\n",
    "# Available movies\n",
    "movie_list = list(movie_profiles.keys())\n",
    "\n",
    "# Test user ID\n",
    "user_id = \"301905\"\n",
    "\n",
    "# Run recommendation\n",
    "recommended_movie_ids = get_recommendations(\n",
    "    user_id=int(user_id),\n",
    "    cf_model=cf_model,\n",
    "    user_profiles=user_profiles,\n",
    "    movie_profiles=movie_profiles,\n",
    "    movie_list=movie_list,\n",
    "    ratings_df=ratings_df,\n",
    "    popularity_model=popularity_model,\n",
    "    top_n=10\n",
    ")\n",
    "\n",
    "print(f\"Top recommendations for user {user_id}:\")\n",
    "print(recommended_movie_ids)"
   ]
  },
  {
   "cell_type": "code",
   "execution_count": null,
   "metadata": {},
   "outputs": [],
   "source": []
  }
 ],
 "metadata": {
  "kernelspec": {
   "display_name": "3.12.8",
   "language": "python",
   "name": "python3"
  },
  "language_info": {
   "codemirror_mode": {
    "name": "ipython",
    "version": 3
   },
   "file_extension": ".py",
   "mimetype": "text/x-python",
   "name": "python",
   "nbconvert_exporter": "python",
   "pygments_lexer": "ipython3",
   "version": "3.12.8"
  }
 },
 "nbformat": 4,
 "nbformat_minor": 2
}
